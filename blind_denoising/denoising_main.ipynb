{
 "cells": [
  {
   "cell_type": "code",
   "execution_count": 1,
   "id": "461df175-8ebb-4901-8e2d-d37bae34533a",
   "metadata": {},
   "outputs": [],
   "source": [
    "import h5py\n",
    "import numpy as np\n",
    "import megengine.data as data\n",
    "import megengine.data.transform as T\n",
    "# import megengine\n",
    "import cv2\n",
    "import os\n",
    "from megengine.data.dataset import Dataset\n",
    "import random\n",
    "\n",
    "# import megengine as mge\n",
    "# import megengine.module as M\n",
    "# import megengine.functional as F\n",
    "\n",
    "# from megengine.data.transform import ToMode\n",
    "# from megengine.data import DataLoader, RandomSampler\n",
    "\n",
    "import torch\n",
    "import torchvision\n",
    "import torch.utils.data as Data\n",
    "# import torch.nn as M\n",
    "from torch import nn\n",
    "import torch.nn.functional as F\n",
    "import matplotlib.pyplot as plt\n",
    "from matplotlib import cm\n",
    "\n",
    "from tqdm.notebook import tqdm\n",
    "from torch.autograd import Variable\n",
    "import wandb"
   ]
  },
  {
   "cell_type": "code",
   "execution_count": 12,
   "id": "0fd304c3-ea0b-44ac-8f92-890041261458",
   "metadata": {},
   "outputs": [],
   "source": [
    "def psnr(img1, img2):\n",
    "    mse = F.mse_loss(img1, img2)\n",
    "#     mse = torch.mean((img1 - img2) ** 2)\n",
    "    return 20 * torch.log10(1.0 / torch.sqrt(mse)).item()"
   ]
  },
  {
   "cell_type": "code",
   "execution_count": 2,
   "id": "10177e4e-211b-40bb-b184-8090c4dc3d71",
   "metadata": {},
   "outputs": [],
   "source": [
    "class cfg:\n",
    "    folder = \"/root/autodl-tmp/SIDD_Small_Raw_Only/\"\n",
    "    bs = 16 # batch size\n",
    "    cut_size = 256\n",
    "    device = 'cuda:0'\n",
    "    load_pretrain = False\n",
    "    lr = 1e-3\n",
    "    n_steps = 10\n",
    "    gamma = 0.7\n",
    "    start_epoch = 0\n",
    "    n_epochs = 10000\n",
    "    model_name = \"our_model\""
   ]
  },
  {
   "cell_type": "code",
   "execution_count": 3,
   "id": "15f69b3b-0a15-4a3f-95b9-81683558e56d",
   "metadata": {},
   "outputs": [],
   "source": [
    "def toTensor(img):\n",
    "    img = torch.from_numpy(img)\n",
    "    return img.float()"
   ]
  },
  {
   "cell_type": "code",
   "execution_count": 4,
   "id": "a5379bd8-e07c-4cb0-b298-1207fc573def",
   "metadata": {},
   "outputs": [],
   "source": [
    "class SIDDDataset(Dataset):\n",
    "    def __init__(self):\n",
    "        self.image_folder = cfg.folder + \"Data/\"\n",
    "        self.image_list = os.listdir(self.image_folder)\n",
    "        self.cut = cfg.cut_size\n",
    "\n",
    "    # get the sample\n",
    "    def __getitem__(self, idx):\n",
    "        # get the index\n",
    "        image_id = self.image_list[idx]\n",
    "        inoisy = h5py.File(self.image_folder + self.image_list[idx] + \"/NOISY_RAW_010.MAT\")\n",
    "        igt = h5py.File(self.image_folder + self.image_list[idx] + \"/NOISY_RAW_010.MAT\")\n",
    "        \n",
    "        inoisy = np.float32(np.array(inoisy['x']).T)\n",
    "        igt = np.float32(np.array(igt['x']).T)\n",
    "        w_origin, h_origin = igt.shape\n",
    "        \n",
    "        x = random.randint(0, w_origin - self.cut - 1)\n",
    "        y = random.randint(0, h_origin - self.cut - 1)\n",
    "        \n",
    "        inoisy = inoisy[np.newaxis, x:x+self.cut, y:y+self.cut]\n",
    "        igt = igt[np.newaxis, x:x+self.cut, y:y+self.cut]\n",
    "        \n",
    "        return toTensor(inoisy), toTensor(igt)\n",
    "\n",
    "    def __len__(self):\n",
    "        return len(self.image_list)"
   ]
  },
  {
   "cell_type": "code",
   "execution_count": 5,
   "id": "194f9eed-c265-495a-83b2-d8b7c287ef54",
   "metadata": {},
   "outputs": [],
   "source": [
    "from torch.utils.data import random_split"
   ]
  },
  {
   "cell_type": "code",
   "execution_count": 6,
   "id": "409d944c-2d94-4d42-b65e-77018ca1f98f",
   "metadata": {},
   "outputs": [],
   "source": [
    "dataset = SIDDDataset()\n",
    "train_set, vali_set = random_split(dataset=dataset, lengths=[148, 12])\n",
    "\n",
    "train_dataloader = Data.DataLoader(train_set,\n",
    "      shuffle=True, batch_size=cfg.bs\n",
    ")\n",
    "vali_dataloader = Data.DataLoader(vali_set,\n",
    "      shuffle=False, batch_size=1\n",
    ")"
   ]
  },
  {
   "cell_type": "code",
   "execution_count": 7,
   "id": "86ae0707-36bc-42b2-809e-4e71a26589f5",
   "metadata": {},
   "outputs": [],
   "source": [
    "class Predictor(nn.Module):\n",
    "    def __init__(self):\n",
    "        super().__init__()\n",
    "        self.conv1 = nn.Sequential(\n",
    "            nn.Conv2d(4, 50, 3, padding = 1, bias = True),\n",
    "            nn.LeakyReLU(negative_slope = 0.125),\n",
    "            nn.Conv2d(50, 50, 3, padding = 1, bias = True),\n",
    "            nn.LeakyReLU(negative_slope = 0.125),\n",
    "        )\n",
    "        self.conv2 = nn.Sequential(\n",
    "            nn.Conv2d(50, 50, 3, padding = 1, bias = True),\n",
    "            nn.LeakyReLU(negative_slope = 0.125),\n",
    "            nn.Conv2d(50, 50, 3, padding = 1, bias = True),\n",
    "            nn.LeakyReLU(negative_slope = 0.125),\n",
    "        )\n",
    "        self.conv3 = nn.Sequential(\n",
    "            nn.Conv2d(50, 50, 3, padding = 1, bias = True),\n",
    "            nn.LeakyReLU(negative_slope = 0.125),\n",
    "            nn.Conv2d(50, 4, 3, padding = 1, bias = True),\n",
    "            nn.LeakyReLU(negative_slope = 0.125),\n",
    "        )\n",
    "    def forward(self, x):\n",
    "        n, c, h, w = x.shape\n",
    "        x = x.reshape((n, c, h // 2, 2, w // 2, 2)).permute(0, 1, 3, 5, 2, 4).reshape((n, c * 4, h // 2, w // 2))\n",
    "        x = self.conv1(x)\n",
    "        x = self.conv2(x)\n",
    "        x = self.conv3(x)\n",
    "        x = x.reshape((n, c, 2, 2, h // 2, w // 2)).permute(0, 1, 4, 2, 5, 3).reshape((n, c, h, w))\n",
    "        return x"
   ]
  },
  {
   "cell_type": "code",
   "execution_count": 10,
   "id": "0d4b7dcd-ce67-44cc-88f9-6041f568bbcd",
   "metadata": {},
   "outputs": [],
   "source": [
    "def train(train_loader, vali_loader):\n",
    "    model = Predictor().to(cfg.device)\n",
    "    \n",
    "    # 加载预训练权重\n",
    "    if cfg.load_pretrain:\n",
    "        # TODO\n",
    "        s = 0\n",
    "        \n",
    "    \n",
    "    criterion_L1 = torch.nn.L1Loss().to(cfg.device)\n",
    "    optimizer = torch.optim.Adam([paras for paras in model.parameters() if paras.requires_grad == True], lr=cfg.lr)\n",
    "    scheduler = torch.optim.lr_scheduler.StepLR(optimizer, step_size=cfg.n_steps, gamma=cfg.gamma)\n",
    "\n",
    "    \n",
    "    loss_list = []\n",
    "    \n",
    "    # 开始训练\n",
    "    for idx_epoch in range(cfg.start_epoch, cfg.n_epochs):\n",
    "        # record loss\n",
    "        loss_epoch = []\n",
    "        wandb.log({\"epoch\": idx_epoch})\n",
    "        for idx_iter, (inoisy, igt) in tqdm(enumerate(train_loader)):\n",
    "            inoisy, igt = Variable(inoisy).to(cfg.device), Variable(igt).to(cfg.device)\n",
    "            ipred = model(inoisy)\n",
    "            loss = criterion_L1(ipred, igt)\n",
    "            \n",
    "            optimizer.zero_grad()\n",
    "            loss.backward()\n",
    "            optimizer.step()\n",
    "            \n",
    "            loss_epoch.append(loss.data.cpu())\n",
    "            \n",
    "        scheduler.step()\n",
    "        lr_now = scheduler.get_last_lr()\n",
    "        wandb.log({\"lr\": float(lr_now[-1])})\n",
    "        \n",
    "        # 输出结果\n",
    "        if idx_epoch % 1 == 0:\n",
    "            print('Epoch--%4d, loss--%f' %\n",
    "                  (idx_epoch + 1, float(np.array(loss_epoch).mean())))\n",
    "            wandb.log({\"loss\": float(np.array(loss_epoch).mean())})\n",
    "            \n",
    "        # 保存模型\n",
    "        if idx_epoch % 5 == 0:\n",
    "            torch.save({'epoch': idx_epoch + 1, 'state_dict': model.state_dict()},\n",
    "                       'log/' + cfg.model_name + '_' + 'epoch' + str(idx_epoch + 1) + '.pth.tar')\n",
    "            \n",
    "        # validation\n",
    "        if idx_epoch % 1 == 0:\n",
    "            psnr_list = []\n",
    "            for idx_iter, (inoisy, igt) in tqdm(enumerate(vali_loader)):\n",
    "                inoisy, igt = Variable(inoisy).to(cfg.device), Variable(igt).to(cfg.device)\n",
    "                with torch.no_grad():\n",
    "                    ipred = model(inoisy)\n",
    "                    \n",
    "                p = psnr(inoisy, ipred)\n",
    "                psnr_list.append(p)\n",
    "            print(\"Tested PSNR\", str(sum(psnr_list) / 12))\n",
    "            wandb.log({\"PSNR\": float(sum(psnr_list) / 12)})"
   ]
  },
  {
   "cell_type": "code",
   "execution_count": null,
   "id": "14e614f4-b41b-4086-a51d-824a6097e1fc",
   "metadata": {},
   "outputs": [
    {
     "data": {
      "text/html": [
       "Finishing last run (ID:2tlxtjup) before initializing another..."
      ],
      "text/plain": [
       "<IPython.core.display.HTML object>"
      ]
     },
     "metadata": {},
     "output_type": "display_data"
    },
    {
     "name": "stdout",
     "output_type": "stream",
     "text": [
      "\n"
     ]
    },
    {
     "data": {
      "text/html": [
       "Waiting for W&B process to finish... <strong style=\"color:green\">(success).</strong>"
      ],
      "text/plain": [
       "<IPython.core.display.HTML object>"
      ]
     },
     "metadata": {},
     "output_type": "display_data"
    },
    {
     "data": {
      "application/vnd.jupyter.widget-view+json": {
       "model_id": "",
       "version_major": 2,
       "version_minor": 0
      },
      "text/plain": [
       "VBox(children=(Label(value='0.001 MB of 0.001 MB uploaded (0.000 MB deduped)\\r'), FloatProgress(value=1.0, max…"
      ]
     },
     "metadata": {},
     "output_type": "display_data"
    },
    {
     "data": {
      "text/html": [
       "<style>\n",
       "    table.wandb td:nth-child(1) { padding: 0 10px; text-align: right }\n",
       "    .wandb-row { display: flex; flex-direction: row; flex-wrap: wrap; width: 100% }\n",
       "    .wandb-col { display: flex; flex-direction: column; flex-basis: 100%; flex: 1; padding: 10px; }\n",
       "    </style>\n",
       "<div class=\"wandb-row\"><div class=\"wandb-col\"><h3>Run history:</h3><br/><table class=\"wandb\"><tr><td>epoch</td><td>▁</td></tr><tr><td>loss</td><td>▁</td></tr><tr><td>lr</td><td>▁</td></tr></table><br/></div><div class=\"wandb-col\"><h3>Run summary:</h3><br/><table class=\"wandb\"><tr><td>epoch</td><td>0</td></tr><tr><td>loss</td><td>0.05628</td></tr><tr><td>lr</td><td>0.001</td></tr></table><br/></div></div>"
      ],
      "text/plain": [
       "<IPython.core.display.HTML object>"
      ]
     },
     "metadata": {},
     "output_type": "display_data"
    },
    {
     "data": {
      "text/html": [
       "Synced <strong style=\"color:#cdcd00\">pleasant-darkness-4</strong>: <a href=\"https://wandb.ai/hsguo/blind-denoising/runs/2tlxtjup\" target=\"_blank\">https://wandb.ai/hsguo/blind-denoising/runs/2tlxtjup</a><br/>Synced 5 W&B file(s), 0 media file(s), 0 artifact file(s) and 0 other file(s)"
      ],
      "text/plain": [
       "<IPython.core.display.HTML object>"
      ]
     },
     "metadata": {},
     "output_type": "display_data"
    },
    {
     "data": {
      "text/html": [
       "Find logs at: <code>./wandb/run-20220323_142553-2tlxtjup/logs</code>"
      ],
      "text/plain": [
       "<IPython.core.display.HTML object>"
      ]
     },
     "metadata": {},
     "output_type": "display_data"
    },
    {
     "data": {
      "text/html": [
       "Successfully finished last run (ID:2tlxtjup). Initializing new run:<br/>"
      ],
      "text/plain": [
       "<IPython.core.display.HTML object>"
      ]
     },
     "metadata": {},
     "output_type": "display_data"
    },
    {
     "data": {
      "text/html": [
       "Tracking run with wandb version 0.12.11"
      ],
      "text/plain": [
       "<IPython.core.display.HTML object>"
      ]
     },
     "metadata": {},
     "output_type": "display_data"
    },
    {
     "data": {
      "text/html": [
       "Run data is saved locally in <code>/root/work/wandb/run-20220323_142829-394aobpi</code>"
      ],
      "text/plain": [
       "<IPython.core.display.HTML object>"
      ]
     },
     "metadata": {},
     "output_type": "display_data"
    },
    {
     "data": {
      "text/html": [
       "Syncing run <strong><a href=\"https://wandb.ai/hsguo/blind-denoising/runs/394aobpi\" target=\"_blank\">worthy-shape-5</a></strong> to <a href=\"https://wandb.ai/hsguo/blind-denoising\" target=\"_blank\">Weights & Biases</a> (<a href=\"https://wandb.me/run\" target=\"_blank\">docs</a>)<br/>"
      ],
      "text/plain": [
       "<IPython.core.display.HTML object>"
      ]
     },
     "metadata": {},
     "output_type": "display_data"
    },
    {
     "data": {
      "application/vnd.jupyter.widget-view+json": {
       "model_id": "44c863d7e3a84598b09ab6dd0d027a71",
       "version_major": 2,
       "version_minor": 0
      },
      "text/plain": [
       "0it [00:00, ?it/s]"
      ]
     },
     "metadata": {},
     "output_type": "display_data"
    }
   ],
   "source": [
    "train_cfg = {\n",
    "                \"batch size\": cfg.bs,\n",
    "                \"cut_size\":cfg.cut_size,\n",
    "                \"num_epoch\":cfg.n_epochs,\n",
    "                \"init_lr\":cfg.lr,\n",
    "                \"n_steps\":cfg.n_steps,\n",
    "                \"change_gamma\":cfg.gamma\n",
    "}\n",
    "\n",
    "wandb.init(project=\"blind-denoising\",\n",
    "          config = train_cfg)\n",
    "train(train_dataloader, vali_dataloader)"
   ]
  },
  {
   "cell_type": "code",
   "execution_count": null,
   "id": "0385d595-f5cd-479a-a91b-0989156e2a4e",
   "metadata": {},
   "outputs": [],
   "source": []
  },
  {
   "cell_type": "code",
   "execution_count": null,
   "id": "876a1d73-2fd5-491e-aaf4-754d32114865",
   "metadata": {},
   "outputs": [],
   "source": []
  },
  {
   "cell_type": "code",
   "execution_count": null,
   "id": "1bc16ba4-1e2f-4a0d-86ba-42b3ee117185",
   "metadata": {},
   "outputs": [],
   "source": []
  },
  {
   "cell_type": "code",
   "execution_count": null,
   "id": "1463923a-6cd0-4ad0-9546-ac5fc577f74b",
   "metadata": {},
   "outputs": [],
   "source": []
  },
  {
   "cell_type": "code",
   "execution_count": null,
   "id": "78b8fa79-0741-4743-a8be-04dbf9050e36",
   "metadata": {},
   "outputs": [],
   "source": []
  },
  {
   "cell_type": "code",
   "execution_count": null,
   "id": "c35392cd-4583-4ab0-8f11-41d64bfa785d",
   "metadata": {},
   "outputs": [],
   "source": []
  },
  {
   "cell_type": "code",
   "execution_count": null,
   "id": "54fc3a30-0258-47fc-a46c-fa492fdcbc99",
   "metadata": {},
   "outputs": [],
   "source": []
  },
  {
   "cell_type": "code",
   "execution_count": null,
   "id": "7cd8a0e2-2500-4da6-a6a9-f394c7df9ab6",
   "metadata": {},
   "outputs": [],
   "source": []
  },
  {
   "cell_type": "code",
   "execution_count": null,
   "id": "3d78dd47-2474-4f30-a9d5-8c458a019228",
   "metadata": {},
   "outputs": [],
   "source": []
  },
  {
   "cell_type": "code",
   "execution_count": null,
   "id": "91f67e23-968e-4cd1-b397-0cdbd68e3c48",
   "metadata": {},
   "outputs": [],
   "source": []
  },
  {
   "cell_type": "code",
   "execution_count": null,
   "id": "5df6c001-dc4c-4c22-b443-c92bed8f63e1",
   "metadata": {},
   "outputs": [],
   "source": []
  },
  {
   "cell_type": "code",
   "execution_count": null,
   "id": "697067f5-7bdc-43ea-9c0f-b63ce4a9b3cd",
   "metadata": {},
   "outputs": [],
   "source": []
  },
  {
   "cell_type": "code",
   "execution_count": null,
   "id": "e3f9be1e-b791-4035-a235-467c46f4afa3",
   "metadata": {},
   "outputs": [],
   "source": []
  },
  {
   "cell_type": "code",
   "execution_count": null,
   "id": "0b6671f5-2eb5-49d2-9c1d-ecdb3b12f107",
   "metadata": {},
   "outputs": [],
   "source": []
  },
  {
   "cell_type": "code",
   "execution_count": null,
   "id": "670a5284-da44-44f2-9839-a013064cbdb2",
   "metadata": {},
   "outputs": [],
   "source": []
  },
  {
   "cell_type": "code",
   "execution_count": null,
   "id": "66a88f31-dee2-4c27-8f19-34c1f5f1a78a",
   "metadata": {},
   "outputs": [],
   "source": []
  },
  {
   "cell_type": "code",
   "execution_count": null,
   "id": "b764001d-75b2-4dd1-a4b5-9d033d8c2773",
   "metadata": {},
   "outputs": [],
   "source": []
  },
  {
   "cell_type": "code",
   "execution_count": null,
   "id": "cca99ce6-82d3-4b2c-98fc-4a18814c2ca5",
   "metadata": {},
   "outputs": [],
   "source": [
    "class Autoencoder(M.Module):\n",
    "    def __init__(self):\n",
    "        super().__init__()\n",
    "        self.encoder = M.Sequential([\n",
    "            # Input(shape=(28, 28, 1,)),\n",
    "            M.Conv2D(4, 50, 3, padding = 1, bias = True),\n",
    "            M.MaxPooling2D((2, 2), padding='same'),\n",
    "            M.Conv2D(32, (3, 3), padding='same', activation='relu',dilation_rate=(3,3)),\n",
    "            M.MaxPooling2D((1, 1), padding='same'),\n",
    "            M.Conv2D(32, (3, 3), padding='same', activation='relu',dilation_rate=(4,4)),\n",
    "            M.MaxPooling2D((1, 1), padding='same'),\n",
    "            M.Conv2D(32, (3, 3), padding='same', activation='relu',dilation_rate=(4,4)),\n",
    "            M.MaxPooling2D((2, 2), padding='same'),\n",
    "        ])\n",
    "        self.decoder=M.Sequential([\n",
    "            M.Conv2D(32, (3, 3), padding='same', activation='relu',dilation_rate=(2,2)),\n",
    "            M.UpSampling2D((2, 2)),\n",
    "            M.Conv2D(32, (3, 3), padding='same', activation='relu',dilation_rate=(3,3)),\n",
    "            M.UpSampling2D((2, 2)),\n",
    "            M.Conv2D(32, (3, 3), padding='same', activation='relu',dilation_rate=(4,4)),\n",
    "            M.UpSampling2D((1, 1)),\n",
    "            M.Conv2D(32, (3, 3), padding='same', activation='relu',dilation_rate=(4,4)),\n",
    "            M.UpSampling2D((1, 1)),\n",
    "            M.Conv2D(1, (3, 3), padding='same', activation='sigmoid')\n",
    "        ])\n",
    "    def forward(self, inputs):\n",
    "        e=self.encoder(inputs)\n",
    "        y=self.decoder(e)\n",
    "        return encoder,decoder"
   ]
  },
  {
   "cell_type": "code",
   "execution_count": null,
   "id": "e46a8502-a7da-416a-b112-210103492dd5",
   "metadata": {},
   "outputs": [],
   "source": [
    "# 检查参数量\n",
    "model = Predictor()\n",
    "# print(model)\n",
    "autoencoder=Autoencoder()"
   ]
  },
  {
   "cell_type": "code",
   "execution_count": null,
   "id": "29f27c3e-a046-4aa0-86cc-91e5dc663479",
   "metadata": {},
   "outputs": [],
   "source": [
    "# from megengine.utils.module_stats import module_stats\n",
    "\n",
    "# input_data = np.random.rand(1, 1, 256, 256).astype(\"float32\")\n",
    "# total_stats, stats_details = module_stats(\n",
    "#     net,\n",
    "#     inputs = (input_data,),\n",
    "#     cal_params = True,\n",
    "#     cal_flops = True,\n",
    "#     logging_to_stdout = True,\n",
    "# )\n",
    "\n",
    "# print(\"params %.3fK MAC/pixel %.0f\"%(total_stats.param_dims/1e3, total_stats.flops/input_data.shape[2]/input_data.shape[3]))"
   ]
  },
  {
   "cell_type": "code",
   "execution_count": null,
   "id": "3813a5fb-f1c5-41d1-ad66-b457d60ee28f",
   "metadata": {},
   "outputs": [],
   "source": []
  },
  {
   "cell_type": "code",
   "execution_count": null,
   "id": "c7da5d47-0e1f-4d02-b4f0-82daaf9389f3",
   "metadata": {},
   "outputs": [],
   "source": []
  }
 ],
 "metadata": {
  "kernelspec": {
   "display_name": "Python 3 (ipykernel)",
   "language": "python",
   "name": "python3"
  },
  "language_info": {
   "codemirror_mode": {
    "name": "ipython",
    "version": 3
   },
   "file_extension": ".py",
   "mimetype": "text/x-python",
   "name": "python",
   "nbconvert_exporter": "python",
   "pygments_lexer": "ipython3",
   "version": "3.8.10"
  }
 },
 "nbformat": 4,
 "nbformat_minor": 5
}
